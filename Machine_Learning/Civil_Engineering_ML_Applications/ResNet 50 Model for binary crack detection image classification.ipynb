{
  "cells": [
    {
      "cell_type": "markdown",
      "metadata": {
        "id": "onb7aDDzuujE"
      },
      "source": [
        "### Importing necessary Python libraries"
      ]
    },
    {
      "cell_type": "code",
      "execution_count": 3,
      "metadata": {
        "id": "gBMzDiM2ujHh"
      },
      "outputs": [],
      "source": [
        "### Keep This Part Unchanged\n",
        "\n",
        "# importing the libraries\n",
        "import pandas as pd\n",
        "import numpy as np\n",
        "import os\n",
        "import matplotlib.pyplot as plt\n",
        "from PIL import Image\n",
        "\n",
        "# for reading and augmenting images\n",
        "from skimage.io import imread\n",
        "from skimage.transform import rotate, resize\n",
        "\n",
        "# for splitting train-test set and evaluating the model\n",
        "from sklearn.metrics import accuracy_score\n",
        "\n",
        "# PyTorch libraries\n",
        "import torch\n",
        "from torch.optim import Adam\n",
        "from torch.utils.data import Dataset\n",
        "from torchvision.io import read_image\n",
        "from torch.utils.data import DataLoader\n",
        "import torchvision.models as models\n",
        "import torchvision.transforms as transforms\n",
        "from torch.nn import Linear, BCEWithLogitsLoss"
      ]
    },
    {
      "cell_type": "markdown",
      "metadata": {
        "id": "eyBr2KkxvThx"
      },
      "source": [
        "### Read in dataset from dropbox"
      ]
    },
    {
      "cell_type": "code",
      "execution_count": null,
      "metadata": {
        "colab": {
          "base_uri": "https://localhost:8080/"
        },
        "id": "OhcR3Dwlsx4n",
        "outputId": "80c4c82e-d2f9-4b1a-cc20-b3f09aec471a"
      },
      "outputs": [
        {
          "output_type": "stream",
          "name": "stdout",
          "text": [
            "Mounted at /content/drive\n"
          ]
        }
      ],
      "source": [
        "### Keep This Part Unchanged\n",
        "### Read in dataset from dropbox\n",
        "\n",
        "from google.colab import drive\n",
        "drive.mount('/content/drive',force_remount=True)\n",
        "\n",
        "from os.path import exists\n",
        "if exists(\"/content/drive/MyDrive/data.zip\")==False:\n",
        "  !wget -P /content/drive/MyDrive/ https://www.dropbox.com/s/8gf8whinebhbuth/data.zip\n",
        "  !unzip /content/drive/MyDrive/data.zip -d /content/drive/MyDrive/"
      ]
    },
    {
      "cell_type": "markdown",
      "metadata": {
        "id": "eCeIZTSOwznZ"
      },
      "source": [
        "----------------------------------------------------------------------------------------------------------------"
      ]
    },
    {
      "cell_type": "markdown",
      "metadata": {
        "id": "GFyWP-HdwbZI"
      },
      "source": [
        "### Define property of a dataset for classification"
      ]
    },
    {
      "cell_type": "code",
      "execution_count": null,
      "metadata": {
        "id": "IDcvDnLFNmvT"
      },
      "outputs": [],
      "source": [
        "### Keep This Part Unchanged\n",
        "\n",
        "class classificationDataset(Dataset):\n",
        "    def __init__(self, annotations_file, img_dir, transform=None, target_transform=None):\n",
        "        self.img_labels = pd.read_csv(annotations_file)\n",
        "        self.img_dir = img_dir\n",
        "        self.transform = transform\n",
        "        self.target_transform = target_transform\n",
        "\n",
        "    def __len__(self):\n",
        "        return len(self.img_labels)\n",
        "\n",
        "    def __getitem__(self, idx):\n",
        "        img_path = os.path.join(self.img_dir, self.img_labels.iloc[idx, 0])\n",
        "        image = read_image(img_path)\n",
        "        label = self.img_labels.iloc[idx, 1]\n",
        "        if self.transform:\n",
        "            image = self.transform(image)\n",
        "        if self.target_transform:\n",
        "            label = self.target_transform(label)\n",
        "        return image, label"
      ]
    },
    {
      "cell_type": "markdown",
      "metadata": {
        "id": "bEKmsLWgwkF2"
      },
      "source": [
        "### Define image augmentation strategies\n",
        "* Try different augmentation as follows to the train_transformation for Question3"
      ]
    },
    {
      "cell_type": "code",
      "execution_count": null,
      "metadata": {
        "colab": {
          "base_uri": "https://localhost:8080/"
        },
        "id": "1ZTAoqXoRnca",
        "outputId": "24b2e64f-f5c3-4b89-9e87-640ff125fbac"
      },
      "outputs": [
        {
          "output_type": "stream",
          "name": "stdout",
          "text": [
            "Number of images (After Image Augmentation) in Training set :  600   Number of images in Testing set :  200\n"
          ]
        }
      ],
      "source": [
        "train_transformation = transforms.Compose([transforms.RandomHorizontalFlip()])\n",
        "test_transformation = transforms.Compose([])\n",
        "\n",
        "img_path = '/content/drive/MyDrive/data/small_CCIC'\n",
        "train_annotations = '/content/drive/MyDrive/data/csv/train_anns.csv'\n",
        "test_annotations = '/content/drive/MyDrive/data/csv/test_anns.csv'\n",
        "\n",
        "training_data = classificationDataset(train_annotations, img_path, transform=train_transformation)\n",
        "test_data = classificationDataset(test_annotations, img_path, transform=test_transformation)\n",
        "\n",
        "# batch size of the model\n",
        "# Try different batch size\n",
        "bs = 16\n",
        "\n",
        "train_dataloader = DataLoader(training_data, batch_size=bs, shuffle=True)\n",
        "test_dataloader = DataLoader(test_data, batch_size=bs)\n",
        "\n",
        "print(\"Number of images (After Image Augmentation) in Training set : \",len(training_data),\"  Number of images in Testing set : \", len(test_data))"
      ]
    },
    {
      "cell_type": "markdown",
      "metadata": {
        "id": "Y-Sg7S9Kxqlu"
      },
      "source": [
        "###  Creating data loaders for image classification model"
      ]
    },
    {
      "cell_type": "code",
      "execution_count": null,
      "metadata": {
        "colab": {
          "base_uri": "https://localhost:8080/",
          "height": 482
        },
        "id": "KTrDGEXjZFXP",
        "outputId": "756165b3-3f38-4c77-cd74-5967cea08d09"
      },
      "outputs": [
        {
          "output_type": "stream",
          "name": "stdout",
          "text": [
            "Feature batch shape: torch.Size([16, 3, 32, 32])\n",
            "Labels batch shape: torch.Size([16])\n"
          ]
        },
        {
          "output_type": "display_data",
          "data": {
            "text/plain": [
              "<Figure size 640x480 with 1 Axes>"
            ],
            "image/png": "[encoded data removed]"
          },
          "metadata": {}
        },
        {
          "output_type": "stream",
          "name": "stdout",
          "text": [
            "Label: 0\n"
          ]
        }
      ],
      "source": [
        "### Keep This Part Unchanged\n",
        "# Display image and label.\n",
        "train_features, train_labels = next(iter(test_dataloader))\n",
        "print(f\"Feature batch shape: {train_features.size()}\")\n",
        "print(f\"Labels batch shape: {train_labels.size()}\")\n",
        "img = train_features[0].squeeze()\n",
        "label = train_labels[0]\n",
        "img_t = img.permute(1,2,0)\n",
        "plt.imshow(img_t)\n",
        "plt.show()\n",
        "print(f\"Label: {label}\")"
      ]
    },
    {
      "cell_type": "markdown",
      "metadata": {
        "id": "L3oK5-1KyBRK"
      },
      "source": [
        "-------------------"
      ]
    },
    {
      "cell_type": "markdown",
      "metadata": {
        "id": "Pj3b1kIlyEus"
      },
      "source": [
        "### Training a ResNet50 model for binary image classification using PyTorch\n",
        "* Tips: You do not need to build the model by yourself from scratch. Please complete the hyperparameter tuning, augmentation strategy adjustment, and other relevant explorations for Question 1-3 based on the model provided below.\n",
        "* Tips: Please add code cell or text cell below, indicating the corresponding question number, to complete the respective question."
      ]
    },
    {
      "cell_type": "markdown",
      "source": [
        "# **Important Disclaimer:**\n",
        " After conducting the project many times and running I realised that there is an inherant randomness to the process. This is indeed the case when building a CNN. There is a stochastic probablity that nutuarally arises. In order to mitigate and avoid any uncertainy in the result (that would change after iteration), I have decided to **run the file for 10 iterations** and takes the average of all the results of the accuracy to get the most representative result possible.\n",
        "\n",
        "For every question. you will find the results of the final iteration (iteration 12) followed by a sperated cell with the results of all the previous iterations and the average, then a cell where I analyze the results."
      ],
      "metadata": {
        "id": "CEkg4vjKKL-u"
      }
    },
    {
      "cell_type": "markdown",
      "metadata": {
        "id": "Y4-pedhAEZw8"
      },
      "source": [
        "# **Question 1**"
      ]
    },
    {
      "cell_type": "code",
      "execution_count": null,
      "metadata": {
        "id": "e64QU28qZikr",
        "colab": {
          "base_uri": "https://localhost:8080/"
        },
        "outputId": "f4e81af1-00fa-4e69-f952-801d5b834de7"
      },
      "outputs": [
        {
          "output_type": "stream",
          "name": "stdout",
          "text": [
            "Learning Rate: 0.005, Epoch: 1, Training Loss: 0.8967234092323404, Test Loss: 9.821164936543656\n",
            "Learning Rate: 0.005, Epoch: 2, Training Loss: 0.4445615207874461, Test Loss: 0.5715470311160271\n",
            "Learning Rate: 0.005, Epoch: 3, Training Loss: 0.1660917021922375, Test Loss: 0.7106951375026256\n",
            "Learning Rate: 0.005, Epoch: 4, Training Loss: 0.15431744620007903, Test Loss: 0.1260235604758446\n",
            "Learning Rate: 0.005, Epoch: 5, Training Loss: 0.3931101024837086, Test Loss: 170798.90745192306\n",
            "Learning Rate: 0.005, Epoch: 6, Training Loss: 0.5606857522537834, Test Loss: 1.2607065873363843\n",
            "Learning Rate: 0.005, Epoch: 7, Training Loss: 0.47256155998299, Test Loss: 0.6632848215790895\n",
            "Learning Rate: 0.005, Epoch: 8, Training Loss: 0.4170911874328005, Test Loss: 0.49973270812859905\n",
            "Learning Rate: 0.005, Epoch: 9, Training Loss: 0.7563875835192831, Test Loss: 0.7079442346898409\n",
            "Learning Rate: 0.005, Epoch: 10, Training Loss: 0.5952670334005042, Test Loss: 0.578092706318085\n",
            "Learning Rate: 0.005, Epoch: 11, Training Loss: 0.33941019404875605, Test Loss: 0.4488974236525022\n",
            "Learning Rate: 0.005, Epoch: 12, Training Loss: 0.24070340826323158, Test Loss: 0.6562199354744874\n",
            "Learning Rate: 0.005, Epoch: 13, Training Loss: 0.24934218181787351, Test Loss: 0.5319645625467484\n",
            "Learning Rate: 0.005, Epoch: 14, Training Loss: 0.2524474264171563, Test Loss: 0.26177609597261137\n",
            "Learning Rate: 0.005, Epoch: 15, Training Loss: 0.2414420544365911, Test Loss: 0.20734511566563293\n",
            "Test accuracy: \t 0.9038461538461539\n",
            "Learning Rate: 0.0005, Epoch: 1, Training Loss: 0.4667931232405336, Test Loss: 2.907553176753796\n",
            "Learning Rate: 0.0005, Epoch: 2, Training Loss: 0.28781907615791025, Test Loss: 0.18492960500029418\n",
            "Learning Rate: 0.0005, Epoch: 3, Training Loss: 0.13470429555807067, Test Loss: 0.20291769209031302\n",
            "Learning Rate: 0.0005, Epoch: 4, Training Loss: 0.08023427034679212, Test Loss: 0.15990336660224086\n",
            "Learning Rate: 0.0005, Epoch: 5, Training Loss: 0.1069865643635, Test Loss: 0.4184571401072809\n",
            "Learning Rate: 0.0005, Epoch: 6, Training Loss: 0.08576918528170178, Test Loss: 0.26689276873590784\n",
            "Learning Rate: 0.0005, Epoch: 7, Training Loss: 0.12307235987789586, Test Loss: 0.12061857205564873\n",
            "Learning Rate: 0.0005, Epoch: 8, Training Loss: 0.11583738899054496, Test Loss: 0.24466624619582525\n",
            "Learning Rate: 0.0005, Epoch: 9, Training Loss: 0.10546767837551765, Test Loss: 0.27277920638712555\n",
            "Learning Rate: 0.0005, Epoch: 10, Training Loss: 0.07631490912631546, Test Loss: 0.15806316756285155\n",
            "Learning Rate: 0.0005, Epoch: 11, Training Loss: 0.06056930165811393, Test Loss: 0.08712296281009912\n",
            "Learning Rate: 0.0005, Epoch: 12, Training Loss: 0.05152055220433364, Test Loss: 0.08233352628751443\n",
            "Learning Rate: 0.0005, Epoch: 13, Training Loss: 0.038563851079456264, Test Loss: 0.08179672671338686\n",
            "Learning Rate: 0.0005, Epoch: 14, Training Loss: 0.08164197650713552, Test Loss: 0.24148830096237361\n",
            "Learning Rate: 0.0005, Epoch: 15, Training Loss: 0.05311624882865305, Test Loss: 0.10170525204963408\n",
            "Test accuracy: \t 0.9711538461538461\n",
            "Learning Rate: 5e-05, Epoch: 1, Training Loss: 0.4935304275468776, Test Loss: 0.4892711971814816\n",
            "Learning Rate: 5e-05, Epoch: 2, Training Loss: 0.28443144477511706, Test Loss: 0.28890665190724224\n",
            "Learning Rate: 5e-05, Epoch: 3, Training Loss: 0.2029702330106183, Test Loss: 0.23252866245233095\n",
            "Learning Rate: 5e-05, Epoch: 4, Training Loss: 0.21124343466209738, Test Loss: 0.28991962073800653\n",
            "Learning Rate: 5e-05, Epoch: 5, Training Loss: 0.22046026107119887, Test Loss: 0.1986899173890169\n",
            "Learning Rate: 5e-05, Epoch: 6, Training Loss: 0.17747501921104758, Test Loss: 0.31306965860466546\n",
            "Learning Rate: 5e-05, Epoch: 7, Training Loss: 0.1650128562101408, Test Loss: 0.27117495009532344\n",
            "Learning Rate: 5e-05, Epoch: 8, Training Loss: 0.17330536148265788, Test Loss: 0.21219685347750783\n",
            "Learning Rate: 5e-05, Epoch: 9, Training Loss: 0.16178024305324806, Test Loss: 0.24278382118791342\n",
            "Learning Rate: 5e-05, Epoch: 10, Training Loss: 0.17059314608769982, Test Loss: 0.25084241036249577\n",
            "Learning Rate: 5e-05, Epoch: 11, Training Loss: 0.1551756799024971, Test Loss: 0.22377113560931042\n",
            "Learning Rate: 5e-05, Epoch: 12, Training Loss: 0.1572655502853817, Test Loss: 0.1232364995834919\n",
            "Learning Rate: 5e-05, Epoch: 13, Training Loss: 0.09557402910860746, Test Loss: 0.1520184138073371\n",
            "Learning Rate: 5e-05, Epoch: 14, Training Loss: 0.11326948955262962, Test Loss: 0.17177759411816412\n",
            "Learning Rate: 5e-05, Epoch: 15, Training Loss: 0.13827511141272752, Test Loss: 0.2664313476371507\n",
            "Test accuracy: \t 0.9134615384615384\n"
          ]
        }
      ],
      "source": [
        "import matplotlib.pyplot as plt\n",
        "\n",
        "\n",
        "# Define different learning rates\n",
        "learning_rates = [0.005, 0.0005, 0.00005]  # Smaller, original, greater\n",
        "\n",
        "\n",
        "# prediction for training set\n",
        "# Initialize lists to store losses for each learning rate\n",
        "training_losses = []\n",
        "test_losses = []\n",
        "#Number of epochs\n",
        "n_epochs = 15\n",
        "\n",
        "# Loop over different learning rates\n",
        "for lr in learning_rates:\n",
        "    # Define and initialize a model\n",
        "    num_classes = 1\n",
        "    Net = models.resnet50()\n",
        "    Net.fc = Linear(2048, num_classes)\n",
        "    # Define and initialize model with different learning rates\n",
        "    model = Net\n",
        "    optimizer = Adam(model.parameters(), lr=lr)\n",
        "    criterion = BCEWithLogitsLoss()\n",
        "\n",
        "    # Move model to GPU if available\n",
        "    device = torch.device('cuda' if torch.cuda.is_available() else 'cpu')\n",
        "    model = model.to(device)\n",
        "\n",
        "    # Start training loop\n",
        "    training_loss_epochs = []\n",
        "    test_loss_epochs = []\n",
        "    for epoch in range(1, n_epochs+1):\n",
        "        model.train()\n",
        "        train_loss = 0.0\n",
        "        training_loss = []\n",
        "        for _, (x, y) in enumerate(train_dataloader):\n",
        "            x = x.float() # x is byte Tensor (8-bit integer)\n",
        "            y = y.float()\n",
        "            x, y = x.to(device), y.to(device)\n",
        "\n",
        "            output = model(x).squeeze()\n",
        "            loss = criterion(output, y)\n",
        "\n",
        "            training_loss.append(loss.item())\n",
        "            optimizer.zero_grad()\n",
        "            loss.backward()\n",
        "            optimizer.step()\n",
        "\n",
        "        training_loss = np.average(training_loss)\n",
        "        training_loss_epochs.append(training_loss)\n",
        "\n",
        "\n",
        "        # Evaluate on test set\n",
        "        model.eval()\n",
        "        test_loss = 0.0\n",
        "        testing_loss = []\n",
        "        prediction_test = []\n",
        "        target_test = []\n",
        "        with torch.no_grad():\n",
        "            for _, (x_test, y_test) in enumerate(test_dataloader):\n",
        "                x_test = x_test.float().to(device)\n",
        "                y_test = y_test.float().to(device)\n",
        "\n",
        "                output_test = model(x_test).squeeze()\n",
        "                loss_test = criterion(output_test, y_test)\n",
        "                testing_loss.append(loss_test.item())\n",
        "                predictions = torch.sigmoid(output_test ).cpu().numpy()\n",
        "                predictions = predictions>0.5\n",
        "                predictions = predictions.astype('uint8')\n",
        "\n",
        "                prediction_test.append(predictions)\n",
        "                target_test.append(y_test.cpu())\n",
        "\n",
        "        test_loss = np.average(testing_loss)\n",
        "        test_loss_epochs.append(test_loss)\n",
        "\n",
        "        print(f'Learning Rate: {lr}, Epoch: {epoch}, Training Loss: {training_loss}, Test Loss: {test_loss}')\n",
        "    # Test accuracy\n",
        "    accuracy_test = []\n",
        "    for i in range(len(prediction_test)):\n",
        "        accuracy_test.append(accuracy_score(target_test[i], prediction_test[i]))\n",
        "    print('Test accuracy: \\t', np.average(accuracy_test))\n",
        "    # Append training and test losses for this learning rate to the main lists\n",
        "    training_losses.append(training_loss_epochs)\n",
        "    test_losses.append(test_loss_epochs)\n"
      ]
    },
    {
      "cell_type": "code",
      "source": [
        "# Average Accuracy for 12 iterations\n",
        "Accuracy_lr_Big = np.array([0.9519, 0.7788, 0.9519, 0.6587, 0.7548, 0.8702,  0.9567, 0.9471, 0.9760, 0.9712, 0.8462, 0.9038])\n",
        "print( 'Accuracy of model with lr=0.005 is ' + str(Accuracy_lr_Big.mean()))\n",
        "print( 'Std of model with lr=0.005 is ' + str(Accuracy_lr_Big.std()))\n",
        "Accuracy_lr = np.array([0.9471, 0.9760, 0.9615, 0.9520, 0.9471, 0.9567,  0.9471, 0.9615 , 0.9712, 0.9082, 0.9471, 0.9712])\n",
        "print( 'Accuracy of model with lr=0.0005 is ' + str(Accuracy_lr.mean()))\n",
        "print( 'Std of model with lr=0.0005 is ' + str(Accuracy_lr.std()))\n",
        "Accuracy_lr_sml = np.array([0.9615, 0.9375, 0.9279, 0.8990, 0.9279, 0.9183,  0.8942, 0.9375 , 0.9087, 0.9375, 0.9279, 0.9135])\n",
        "print( 'Accuracy of model with lr=0.00005 is ' + str(Accuracy_lr_sml.mean()))\n",
        "print( 'Std of model with lr=0.00005 is ' + str(Accuracy_lr_sml.std()))"
      ],
      "metadata": {
        "colab": {
          "base_uri": "https://localhost:8080/"
        },
        "id": "SNDiDGzUEWP3",
        "outputId": "f0d78062-8675-431f-9a45-dcf0374c5b3b"
      },
      "execution_count": 3,
      "outputs": [
        {
          "output_type": "stream",
          "name": "stdout",
          "text": [
            "Accuracy of model with lr=0.005 is 0.8806083333333333\n",
            "Std of model with lr=0.005 is 0.09787262520178402\n",
            "Accuracy of model with lr=0.0005 is 0.9538916666666668\n",
            "Std of model with lr=0.0005 is 0.017047505112348697\n",
            "Accuracy of model with lr=0.00005 is 0.9242833333333333\n",
            "Std of model with lr=0.00005 is 0.0179989274371805\n"
          ]
        }
      ]
    },
    {
      "cell_type": "markdown",
      "source": [
        "DO ANALYSIS HERE"
      ],
      "metadata": {
        "id": "kkVpANIqLfMq"
      }
    },
    {
      "cell_type": "code",
      "execution_count": null,
      "metadata": {
        "id": "DM5hLPh2CtvM",
        "colab": {
          "base_uri": "https://localhost:8080/",
          "height": 1000
        },
        "outputId": "7cf6baa9-1d32-4f48-88d6-f4a75d6541d9"
      },
      "outputs": [
        {
          "output_type": "display_data",
          "data": {
            "text/plain": [
              "<Figure size 1000x600 with 1 Axes>"
            ],
            "image/png": "[encoded data removed]"
          },
          "metadata": {}
        },
        {
          "output_type": "display_data",
          "data": {
            "text/plain": [
              "<Figure size 1000x600 with 1 Axes>"
            ],
            "image/png": "[encoded data removed]"
          },
          "metadata": {}
        }
      ],
      "source": [
        "\n",
        "\n",
        "# Plot training losses\n",
        "plt.figure(figsize=(10, 6))\n",
        "epochs = range(1, n_epochs+1)\n",
        "for i, lr in enumerate(learning_rates):\n",
        "    plt.plot(epochs, training_losses[i], label=f'Training Loss (LR = {lr})')\n",
        "\n",
        "plt.xlabel('Epochs')\n",
        "plt.ylabel('Training Loss')\n",
        "plt.title('Training Losses under Different Learning Rates')\n",
        "plt.legend()\n",
        "plt.grid(True)\n",
        "plt.show()\n",
        "\n",
        "# Plot test losses\n",
        "plt.figure(figsize=(10, 6))\n",
        "for i, lr in enumerate(learning_rates):\n",
        "    plt.plot(epochs, test_losses[i], label=f'Test Loss (LR = {lr})')\n",
        "plt.xlabel('Epochs')\n",
        "plt.ylabel('Test Loss')\n",
        "plt.ylim(0, 10)\n",
        "plt.title('Test Losses under Different Learning Rates')\n",
        "plt.legend()\n",
        "plt.grid(True)\n",
        "plt.show()\n",
        "\n",
        "\n"
      ]
    },
    {
      "cell_type": "markdown",
      "metadata": {
        "id": "9VtGE-uoEzy0"
      },
      "source": [
        "**QUESTION 1 ANALYSIS:**\n",
        "\n",
        "This test explores the impact of different learning rates on the final Neural Network. It is crucial to acknowledge **the compromise** when selecting the learning rate. If the learning rate is too large, the final result might not converge correctly and could be inherently unstable due to excessively large steps during optimization. Conversely, if the learning rate is too small, the neural network might converge too slowly or even to the wrong minima. Let's analyze the results obtained in our case, considering the results of all 12 iterations:\n",
        "\n",
        " *   **The most precise and accurate result was, unsurprisingly, achieved with the intermediate learning rate** **(lr=0.0005)**. This learning rate strikes a good balance between being sufficiently large to make progress and being conservative enough to avoid instability. The accuracy of this learning rate is **0.96** compared to **0.88** for the larger learning rate **(lr=0.005)** and **0.92** for the smaller one **(5e-5)**. **While the difference is significant, it is not game-changing**.\n",
        "\n",
        "*  For **the larger learning rate**, the gradient step is too large for it to converge properly and accurately. Quite the opposite happens, **as the larger learning rate proves to be unstable.** This instability is evidenced by:\n",
        "   1. The **average accuracy** of the model with the larger learning rate   is **significantly smaller** than the other models.\n",
        "   2. The **standard deviation of the accuracy** of the model with the larger learning rate is **significantly larger** (nearly six times bigger with a standard deviation of 0.098 vs. 0.017). In other words, the results of the accuracy of the larger learning rate model vary greatly each time the file runs, indicating instability.\n",
        "   3. Finally, by examining the loss plot for both the test losses and the training, we notice that for both cases, the losses of the model with **the larger learning rate fluctuate and jump in an unpredictable and unexpected way**. This further illustrates the instability of the convergence with a learning rate that is too large.\n",
        "\n",
        "* On the other hand, for **the smaller learning rate (5e-5)**, instability is not a problem. However, **the convergence is too slow**. This is reflected in the slightly inferior accuracy but can also be seen visually in the plot. The green line always remains above the yellow one because the green line converges slower than the yellow one, resulting in a higher loss. Although the smaller learning rate is better than the very large one (because it is stable), it performs worse than the intermediate one, which can converge to a lower final loss and achieve better accuracy.\n",
        "\n",
        "\n",
        "\n",
        "\n",
        "\n",
        "\n"
      ]
    },
    {
      "cell_type": "markdown",
      "metadata": {
        "id": "IaDmG5koE3Ow"
      },
      "source": [
        "# **Question 2**"
      ]
    },
    {
      "cell_type": "code",
      "execution_count": null,
      "metadata": {
        "id": "aTTO8PMXFPZQ",
        "colab": {
          "base_uri": "https://localhost:8080/"
        },
        "outputId": "53fd8ae8-110a-444f-8c0c-b3cbe8d20d29"
      },
      "outputs": [
        {
          "output_type": "stream",
          "name": "stdout",
          "text": [
            "epoch: \t 1 \t training loss: \t 0.4470851813492022\n",
            "epoch: \t 2 \t training loss: \t 0.23911957293258687\n",
            "epoch: \t 3 \t training loss: \t 0.1508540614189482\n",
            "epoch: \t 4 \t training loss: \t 0.20708568642945274\n",
            "epoch: \t 5 \t training loss: \t 0.11641643844593905\n",
            "epoch: \t 6 \t training loss: \t 0.14916061897958188\n",
            "epoch: \t 7 \t training loss: \t 0.11922218209426654\n",
            "epoch: \t 8 \t training loss: \t 0.11792008835503734\n",
            "epoch: \t 9 \t training loss: \t 0.05914842357589422\n",
            "epoch: \t 10 \t training loss: \t 0.12385584695240189\n",
            "epoch: \t 11 \t training loss: \t 0.07845255407798839\n",
            "epoch: \t 12 \t training loss: \t 0.044164574913386455\n",
            "epoch: \t 13 \t training loss: \t 0.0495352117945195\n",
            "epoch: \t 14 \t training loss: \t 0.05293971694405436\n",
            "epoch: \t 15 \t training loss: \t 0.13420619366776296\n",
            "epoch: \t 16 \t training loss: \t 0.07336617223183184\n",
            "epoch: \t 17 \t training loss: \t 0.044013707359370435\n",
            "epoch: \t 18 \t training loss: \t 0.05055183569876183\n",
            "epoch: \t 19 \t training loss: \t 0.03206502107940124\n",
            "epoch: \t 20 \t training loss: \t 0.04598702576875344\n",
            "epoch: \t 21 \t training loss: \t 0.049666967228404246\n",
            "epoch: \t 22 \t training loss: \t 0.048404762564276005\n",
            "epoch: \t 23 \t training loss: \t 0.03609149936298644\n",
            "epoch: \t 24 \t training loss: \t 0.008241603469574138\n",
            "epoch: \t 25 \t training loss: \t 0.08255328698233873\n",
            "epoch: \t 26 \t training loss: \t 0.0816823631696599\n",
            "epoch: \t 27 \t training loss: \t 0.02646682208471343\n",
            "epoch: \t 28 \t training loss: \t 0.04100982014834268\n",
            "epoch: \t 29 \t training loss: \t 0.0288521505778925\n",
            "epoch: \t 30 \t training loss: \t 0.039832292192027365\n",
            "epoch: \t 31 \t training loss: \t 0.025743844179056685\n",
            "epoch: \t 32 \t training loss: \t 0.017663825998744487\n",
            "epoch: \t 33 \t training loss: \t 0.025502015203911516\n",
            "epoch: \t 34 \t training loss: \t 0.04431586564475622\n",
            "epoch: \t 35 \t training loss: \t 0.0048808601505267064\n",
            "epoch: \t 36 \t training loss: \t 0.002454128704190034\n",
            "epoch: \t 37 \t training loss: \t 0.1033518608431845\n",
            "epoch: \t 38 \t training loss: \t 0.030154254753908486\n",
            "epoch: \t 39 \t training loss: \t 0.03610439243799958\n",
            "epoch: \t 40 \t training loss: \t 0.037974280194918573\n",
            "epoch: \t 41 \t training loss: \t 0.05946823255018037\n",
            "epoch: \t 42 \t training loss: \t 0.02230137985622461\n",
            "epoch: \t 43 \t training loss: \t 0.029669591751467363\n",
            "epoch: \t 44 \t training loss: \t 0.057763450353185794\n",
            "epoch: \t 45 \t training loss: \t 0.1036024316961534\n",
            "epoch: \t 46 \t training loss: \t 0.19724073818590687\n",
            "epoch: \t 47 \t training loss: \t 0.05308656124888282\n",
            "epoch: \t 48 \t training loss: \t 0.03794116345172944\n",
            "epoch: \t 49 \t training loss: \t 0.06402803179930504\n",
            "epoch: \t 50 \t training loss: \t 0.06021381257788131\n",
            "epoch: \t 51 \t training loss: \t 0.05592400088023983\n",
            "epoch: \t 52 \t training loss: \t 0.03449433380400909\n",
            "epoch: \t 53 \t training loss: \t 0.06790668582605001\n",
            "epoch: \t 54 \t training loss: \t 0.01785787702599344\n",
            "epoch: \t 55 \t training loss: \t 0.00925089657845858\n",
            "epoch: \t 56 \t training loss: \t 0.015909473646101298\n",
            "epoch: \t 57 \t training loss: \t 0.016102560232148358\n",
            "epoch: \t 58 \t training loss: \t 0.009983162287282635\n",
            "epoch: \t 59 \t training loss: \t 0.025919809875822944\n",
            "epoch: \t 60 \t training loss: \t 0.010122713845033248\n"
          ]
        }
      ],
      "source": [
        "\n",
        "\n",
        "# Initialize lists to store losses for each learning rate\n",
        "training_losses = []\n",
        "test_losses = []\n",
        "training_loss_epochs = []\n",
        "test_loss_epochs = []\n",
        "\n",
        "# Define and initialize a model\n",
        "num_classes = 1\n",
        "Net = models.resnet50()\n",
        "Net.fc = Linear(2048, num_classes)\n",
        "\n",
        "# Define training option\n",
        "# Try different learning rate\n",
        "model_2 = Net\n",
        "optimizer = Adam(model_2.parameters(), lr=0.0005)\n",
        "criterion = BCEWithLogitsLoss()\n",
        "\n",
        "# checking if GPU is available\n",
        "device = torch.device('cuda' if torch.cuda.is_available() else 'cpu')\n",
        "model_2 = model_2.to(device)\n",
        "\n",
        "# Start training\n",
        "# number of epochs to train the model\n",
        "n_epochs = 60\n",
        "\n",
        "torch.cuda.empty_cache()\n",
        "\n",
        "for epoch in range(1, n_epochs+1):\n",
        "    model_2.train()\n",
        "    train_loss = 0.0\n",
        "    training_loss = []\n",
        "    for _, (x, y) in enumerate(train_dataloader):\n",
        "        x = x.float() # x is byte Tensor (8-bit integer)\n",
        "        y = y.float()\n",
        "        x, y = x.to(device), y.to(device)\n",
        "\n",
        "        output = model_2(x).squeeze()\n",
        "        loss = criterion(output, y)\n",
        "\n",
        "        training_loss.append(loss.item())\n",
        "        optimizer.zero_grad()\n",
        "        loss.backward()\n",
        "        optimizer.step()\n",
        "\n",
        "    training_loss = np.average(training_loss)\n",
        "    print('epoch: \\t', epoch, '\\t training loss: \\t', training_loss)"
      ]
    },
    {
      "cell_type": "code",
      "execution_count": null,
      "metadata": {
        "id": "SVCi4uRSZ8V9",
        "colab": {
          "base_uri": "https://localhost:8080/"
        },
        "outputId": "e27918cf-9712-4fb8-ab63-7e6f6c9a49cf"
      },
      "outputs": [
        {
          "output_type": "stream",
          "name": "stdout",
          "text": [
            "Test accuracy: \t 0.9807692307692307\n"
          ]
        }
      ],
      "source": [
        "# prediction for training set\n",
        "\n",
        "model_2.eval()\n",
        "test_loss = 0.0\n",
        "testing_loss = []\n",
        "prediction_test = []\n",
        "target_test = []\n",
        "predictions = []\n",
        "with torch.no_grad():\n",
        "    for _, (x, y) in enumerate(test_dataloader):\n",
        "        x = x.float() # x is byte Tensor (8-bit integer)\n",
        "        y = y.float()\n",
        "        x, y = x.to(device), y.to(device)\n",
        "\n",
        "        y_pred = model_2(x)\n",
        "        predictions = torch.sigmoid(y_pred).cpu().numpy()\n",
        "        predictions = predictions>0.5\n",
        "        predictions = predictions.astype('uint8')\n",
        "        prediction_test.append(predictions)\n",
        "        target_test.append(y.cpu())\n",
        "# Test accuracy\n",
        "accuracy_test = []\n",
        "for i in range(len(prediction_test)):\n",
        "    accuracy_test.append(accuracy_score(target_test[i], prediction_test[i]))\n",
        "\n",
        "print('Test accuracy: \\t', np.average(accuracy_test))\n"
      ]
    },
    {
      "cell_type": "code",
      "source": [
        "Accuracy_2 = np.array([0.9615, 0.5385, 0.9712, 0.9663, 0.9808, 0.9712, 0.9663, 0.9615, 0.9760, 0.9471, 0.9529, 0.9808 ])\n",
        "print( 'Accuracy of model 2 is ' + str(Accuracy_2.mean()))"
      ],
      "metadata": {
        "colab": {
          "base_uri": "https://localhost:8080/"
        },
        "id": "FStikKdkHqAH",
        "outputId": "197a6a9e-f201-4ae4-fdf9-b12b20a1c44d"
      },
      "execution_count": null,
      "outputs": [
        {
          "output_type": "stream",
          "name": "stdout",
          "text": [
            "Accuracy of model 2 is 0.931175\n"
          ]
        }
      ]
    },
    {
      "cell_type": "markdown",
      "source": [
        " **QUESTION 2 ANALYSIS:**\n",
        "\n",
        "The model used here is **the same as the previous one** with an intermediate learning rate of 0.0005. The only difference is that this **model is trained for 60 epochs instead of 15 epochs**. Both the training data and the test data are identical.\n",
        "\n",
        "The result obtained here is that **the accuracy of the 2nd model** (Question 2) on the testing data is **0.93**, which is **lower** than the **0.97** of the first model.\n",
        "\n",
        "This is a significant result that can be interpreted. Initially, one might expect the model trained with more epochs to be more accurate as it has more information contained within it. However, in our case, we realize that the accuracy is lower for the 2nd model. This can simply be explained by the phenomenon of **overfitting.**\n",
        "\n",
        "Indeed, the 2nd model performs better on the training dataset, but it is too tailored to the training dataset. This, counterintuitively, yields worse results for the test dataset. Overfitting occurs when a model learns the detail and noise in the training data to the extent that it negatively impacts the performance of the model on new data."
      ],
      "metadata": {
        "id": "zFOCd9zuKebi"
      }
    },
    {
      "cell_type": "markdown",
      "metadata": {
        "id": "xrpLfESVIAys"
      },
      "source": [
        "# **Question 3**"
      ]
    },
    {
      "cell_type": "code",
      "execution_count": null,
      "metadata": {
        "id": "wQa0zlzrgtZ7",
        "colab": {
          "base_uri": "https://localhost:8080/"
        },
        "outputId": "3bd94720-2d5e-4fe6-e9d4-e51b12f84936"
      },
      "outputs": [
        {
          "output_type": "stream",
          "name": "stdout",
          "text": [
            "Number of images (After Image Augmentation) in Training set :  600   Number of images in Testing set :  200\n",
            "epoch: \t 1 \t training loss: \t 0.5365429777455958\n",
            "epoch: \t 2 \t training loss: \t 0.3427264731573431\n",
            "epoch: \t 3 \t training loss: \t 0.23976383304321452\n",
            "epoch: \t 4 \t training loss: \t 0.1709596380762952\n",
            "epoch: \t 5 \t training loss: \t 0.13065575217632086\n",
            "epoch: \t 6 \t training loss: \t 0.1444267390884067\n",
            "epoch: \t 7 \t training loss: \t 0.10109100488663994\n",
            "epoch: \t 8 \t training loss: \t 0.12458301409098663\n",
            "epoch: \t 9 \t training loss: \t 0.15102437719408618\n",
            "epoch: \t 10 \t training loss: \t 0.14680744067912824\n",
            "epoch: \t 11 \t training loss: \t 0.10485009372994107\n",
            "epoch: \t 12 \t training loss: \t 0.11331033241616464\n",
            "epoch: \t 13 \t training loss: \t 0.10296246139822822\n",
            "epoch: \t 14 \t training loss: \t 0.06797851025322943\n",
            "epoch: \t 15 \t training loss: \t 0.11132871982102331\n",
            "epoch: \t 16 \t training loss: \t 0.09296050229673519\n",
            "epoch: \t 17 \t training loss: \t 0.10929950514171076\n",
            "epoch: \t 18 \t training loss: \t 0.0867798769920084\n",
            "epoch: \t 19 \t training loss: \t 0.10184736852534115\n",
            "epoch: \t 20 \t training loss: \t 0.08277669621901096\n",
            "epoch: \t 21 \t training loss: \t 0.08993594023693156\n",
            "epoch: \t 22 \t training loss: \t 0.11752109872912497\n",
            "epoch: \t 23 \t training loss: \t 0.07230674036729492\n",
            "epoch: \t 24 \t training loss: \t 0.051053075101471654\n",
            "epoch: \t 25 \t training loss: \t 0.06661707653333188\n",
            "epoch: \t 26 \t training loss: \t 0.052252105510744606\n",
            "epoch: \t 27 \t training loss: \t 0.0986401081134222\n",
            "epoch: \t 28 \t training loss: \t 0.04730034959012348\n",
            "epoch: \t 29 \t training loss: \t 0.060606342188915925\n",
            "epoch: \t 30 \t training loss: \t 0.058760934083501956\n",
            "epoch: \t 31 \t training loss: \t 0.03937353525390407\n",
            "epoch: \t 32 \t training loss: \t 0.05423573434113917\n",
            "epoch: \t 33 \t training loss: \t 0.042621676148356574\n",
            "epoch: \t 34 \t training loss: \t 0.03886404701992624\n",
            "epoch: \t 35 \t training loss: \t 0.06684387339076861\n",
            "epoch: \t 36 \t training loss: \t 0.08680545705321588\n",
            "epoch: \t 37 \t training loss: \t 0.11299310064580488\n",
            "epoch: \t 38 \t training loss: \t 0.04486084355678605\n",
            "epoch: \t 39 \t training loss: \t 0.1224689141136447\n",
            "epoch: \t 40 \t training loss: \t 0.11614254849203128\n",
            "epoch: \t 41 \t training loss: \t 0.1381410268797098\n",
            "epoch: \t 42 \t training loss: \t 0.0648602758301422\n",
            "epoch: \t 43 \t training loss: \t 0.07604274325268834\n",
            "epoch: \t 44 \t training loss: \t 0.07786245247667753\n",
            "epoch: \t 45 \t training loss: \t 0.05669972450643974\n",
            "epoch: \t 46 \t training loss: \t 0.05141549823058181\n",
            "epoch: \t 47 \t training loss: \t 0.05209463720951278\n",
            "epoch: \t 48 \t training loss: \t 0.07577161342947204\n",
            "epoch: \t 49 \t training loss: \t 0.06998968697888286\n",
            "epoch: \t 50 \t training loss: \t 0.05920313089461017\n",
            "epoch: \t 51 \t training loss: \t 0.03235374947421645\n",
            "epoch: \t 52 \t training loss: \t 0.09648462325659286\n",
            "epoch: \t 53 \t training loss: \t 0.06218634274371557\n",
            "epoch: \t 54 \t training loss: \t 0.04678912344388664\n",
            "epoch: \t 55 \t training loss: \t 0.03627650227128087\n",
            "epoch: \t 56 \t training loss: \t 0.04576003879284192\n",
            "epoch: \t 57 \t training loss: \t 0.05350282336707766\n",
            "epoch: \t 58 \t training loss: \t 0.04766712287336735\n",
            "epoch: \t 59 \t training loss: \t 0.05517944270793937\n",
            "epoch: \t 60 \t training loss: \t 0.036597389841182645\n",
            "Test accuracy: \t 0.9663461538461539\n"
          ]
        }
      ],
      "source": [
        "\n",
        "train_transformation = transforms.Compose([\n",
        "    transforms.RandomHorizontalFlip(),\n",
        "    transforms.RandomVerticalFlip(),\n",
        "    transforms.RandomRotation(30)\n",
        "])\n",
        "test_transformation = transforms.Compose([])\n",
        "\n",
        "# Try different augmentation as follows to the train_transformation for Question3(a):\n",
        "# transforms.RandomHorizontalFlip(),\n",
        "# transforms.RandomVerticalFlip(),\n",
        "# transforms.RandomRotation(30)\n",
        "\n",
        "img_path = '/content/drive/MyDrive/data/small_CCIC'\n",
        "train_annotations = '/content/drive/MyDrive/data/csv/train_anns.csv'\n",
        "test_annotations = '/content/drive/MyDrive/data/csv/test_anns.csv'\n",
        "\n",
        "training_data = classificationDataset(train_annotations, img_path, transform=train_transformation)\n",
        "test_data = classificationDataset(test_annotations, img_path, transform=test_transformation)\n",
        "\n",
        "\n",
        "train_dataloader = DataLoader(training_data, batch_size=bs, shuffle=True)\n",
        "test_dataloader = DataLoader(test_data, batch_size=bs)\n",
        "\n",
        "print(\"Number of images (After Image Augmentation) in Training set : \",len(training_data),\"  Number of images in Testing set : \", len(test_data))\n",
        "\n",
        "\n",
        "\n",
        "\n",
        "# Define and initialize a model\n",
        "num_classes = 1\n",
        "Net = models.resnet50()\n",
        "Net.fc = Linear(2048, num_classes)\n",
        "\n",
        "# Define training option\n",
        "# Try different learning rate\n",
        "model_3 = Net\n",
        "optimizer = Adam(model_3.parameters(), lr=0.0005)\n",
        "criterion = BCEWithLogitsLoss()\n",
        "\n",
        "# checking if GPU is available\n",
        "device = torch.device('cuda' if torch.cuda.is_available() else 'cpu')\n",
        "model_3 = model_3.to(device)\n",
        "\n",
        "# Start training\n",
        "# number of epochs to train the model\n",
        "n_epochs = 60\n",
        "predictions =[]\n",
        "torch.cuda.empty_cache()\n",
        "\n",
        "for epoch in range(1, n_epochs+1):\n",
        "    model_3.train()\n",
        "\n",
        "    train_loss = 0.0\n",
        "    training_loss = []\n",
        "    for _, (x, y) in enumerate(train_dataloader):\n",
        "        x = x.float() # x is byte Tensor (8-bit integer)\n",
        "        y = y.float()\n",
        "        x, y = x.to(device), y.to(device)\n",
        "\n",
        "        output = model_3(x).squeeze()\n",
        "        loss = criterion(output, y)\n",
        "\n",
        "        training_loss.append(loss.item())\n",
        "        optimizer.zero_grad()\n",
        "        loss.backward()\n",
        "        optimizer.step()\n",
        "\n",
        "    training_loss = np.average(training_loss)\n",
        "    print('epoch: \\t', epoch, '\\t training loss: \\t', training_loss)\n",
        "\n",
        "\n",
        "# prediction for training set\n",
        "prediction_test = []\n",
        "target_test = []\n",
        "\n",
        "model_3.eval()\n",
        "with torch.no_grad():\n",
        "    for _, (x, y) in enumerate(test_dataloader):\n",
        "        x = x.float() # x is byte Tensor (8-bit integer)\n",
        "        y = y.float()\n",
        "        x, y = x.to(device), y.to(device)\n",
        "\n",
        "        y_pred = model_3(x)\n",
        "        predictions = torch.sigmoid(y_pred).cpu().numpy()\n",
        "        predictions = predictions>0.5\n",
        "        predictions = predictions.astype('uint8')\n",
        "        prediction_test.append(predictions)\n",
        "        target_test.append(y.cpu())\n",
        "# Test accuracy\n",
        "accuracy_test = []\n",
        "for i in range(len(prediction_test)):\n",
        "    accuracy_test.append(accuracy_score(target_test[i], prediction_test[i]))\n",
        "\n",
        "print('Test accuracy: \\t', np.average(accuracy_test))"
      ]
    },
    {
      "cell_type": "code",
      "source": [
        "Accuracy_3 = np.array([0.9663, 0.9904, 0.9327, 0.9712, 0.9759, 0.9904, 0.9808, 0.9760, 0.9856, 0.9375, 0.9615, 0.9664 ])\n",
        "print( 'Accuracy of model 3 is ' + str(Accuracy_3.mean()))"
      ],
      "metadata": {
        "colab": {
          "base_uri": "https://localhost:8080/"
        },
        "id": "6Ch7IseXIwGI",
        "outputId": "27917e33-f9c0-4245-85f1-9e0390b23d0f"
      },
      "execution_count": null,
      "outputs": [
        {
          "output_type": "stream",
          "name": "stdout",
          "text": [
            "Accuracy of model 2 is 0.9695583333333332\n"
          ]
        }
      ]
    },
    {
      "cell_type": "markdown",
      "source": [],
      "metadata": {
        "id": "L_TenRpVPxFG"
      }
    },
    {
      "cell_type": "markdown",
      "source": [
        "**QUESTION 3-a ANALYSIS :**\n",
        "\n",
        "The model trained in this case (model 3) **has the same exact paramters as model 2**. The only slight difference is that the **training data has been slightly modified** with the following commands :\n",
        "```\n",
        "train_transformation = transforms.Compose([\n",
        "    transforms.RandomHorizontalFlip(),\n",
        "    transforms.RandomVerticalFlip(),\n",
        "    transforms.RandomRotation(30)\n",
        "])\n",
        "```\n",
        "This is known as an **augmentation strategy**. The goal is to make the input images of the training dataset **more diverse and random**. In turn, this allows the model to expect a bit of the unexpected (even though it is artificially generated unexpectedness). In general, adding this more random parameter allows for better performance on the test dataset.\n",
        "\n",
        "In our case, we observe a **slight improvement in accuracy** from the 2nd model, with an increase from **0.93 to 0.97**. This improvement is significant and indicates that **the augmentation strategy worked and improved the final neural network on the test dataset**. It is noteworthy that even with this slight improvement, the model performs on the same level (or even negligibly worse) than the first model, which equally has an accuracy of 0.97. The augmentation strategy was able to mitigate the overfitting of Question 2 but did not outperform the model that did not overfit.\n",
        "\n",
        "\n",
        "\n"
      ],
      "metadata": {
        "id": "v1txifLWLmt-"
      }
    },
    {
      "cell_type": "code",
      "execution_count": null,
      "metadata": {
        "id": "YeKdiGtkMv5U",
        "colab": {
          "base_uri": "https://localhost:8080/"
        },
        "outputId": "bbb37a96-9d75-4a40-a4ad-c916d651ff4f"
      },
      "outputs": [
        {
          "output_type": "stream",
          "name": "stdout",
          "text": [
            "epoch: \t 1 \t training loss: \t 0.46051603957618537\n",
            "epoch: \t 2 \t training loss: \t 0.2717004159563466\n",
            "epoch: \t 3 \t training loss: \t 0.16639107215757432\n",
            "epoch: \t 4 \t training loss: \t 0.27484364998771954\n",
            "epoch: \t 5 \t training loss: \t 0.16814862948989398\n",
            "epoch: \t 6 \t training loss: \t 0.14045421761999788\n",
            "epoch: \t 7 \t training loss: \t 0.11985271149560024\n",
            "epoch: \t 8 \t training loss: \t 0.1181048300656441\n",
            "epoch: \t 9 \t training loss: \t 0.10981431587501184\n",
            "epoch: \t 10 \t training loss: \t 0.13456641252789842\n",
            "epoch: \t 11 \t training loss: \t 0.06768079261344515\n",
            "epoch: \t 12 \t training loss: \t 0.06714676905692996\n",
            "epoch: \t 13 \t training loss: \t 0.11199112585439396\n",
            "epoch: \t 14 \t training loss: \t 0.11545689919914462\n",
            "epoch: \t 15 \t training loss: \t 0.06785422619922381\n",
            "epoch: \t 16 \t training loss: \t 0.06215350834750816\n",
            "epoch: \t 17 \t training loss: \t 0.06201401321634062\n",
            "epoch: \t 18 \t training loss: \t 0.0901131288908226\n",
            "epoch: \t 19 \t training loss: \t 0.08462033484216877\n",
            "epoch: \t 20 \t training loss: \t 0.0756878211702171\n",
            "epoch: \t 21 \t training loss: \t 0.10638357714847907\n",
            "epoch: \t 22 \t training loss: \t 0.07711836614793069\n",
            "epoch: \t 23 \t training loss: \t 0.059516430452564044\n",
            "epoch: \t 24 \t training loss: \t 0.04873577030498142\n",
            "epoch: \t 25 \t training loss: \t 0.0926832938015363\n",
            "epoch: \t 26 \t training loss: \t 0.07895405327067956\n",
            "epoch: \t 27 \t training loss: \t 0.06718165924968689\n",
            "epoch: \t 28 \t training loss: \t 0.05945453027532877\n",
            "epoch: \t 29 \t training loss: \t 0.09361630144351359\n",
            "epoch: \t 30 \t training loss: \t 0.06567459987586756\n",
            "epoch: \t 31 \t training loss: \t 0.06339746531203243\n",
            "epoch: \t 32 \t training loss: \t 0.07210105911240373\n",
            "epoch: \t 33 \t training loss: \t 0.051940431015713044\n",
            "epoch: \t 34 \t training loss: \t 0.0770861489857596\n",
            "epoch: \t 35 \t training loss: \t 0.09732163132560488\n",
            "epoch: \t 36 \t training loss: \t 0.04437296016533908\n",
            "epoch: \t 37 \t training loss: \t 0.04856961484888176\n",
            "epoch: \t 38 \t training loss: \t 0.05278398786781748\n",
            "epoch: \t 39 \t training loss: \t 0.10547873445198332\n",
            "epoch: \t 40 \t training loss: \t 0.04987231082601571\n",
            "epoch: \t 41 \t training loss: \t 0.05612531316000968\n",
            "epoch: \t 42 \t training loss: \t 0.04463631997350603\n",
            "epoch: \t 43 \t training loss: \t 0.04113735408387392\n",
            "epoch: \t 44 \t training loss: \t 0.027647889896271455\n",
            "epoch: \t 45 \t training loss: \t 0.058566415530788764\n",
            "epoch: \t 46 \t training loss: \t 0.08620260582354508\n",
            "epoch: \t 47 \t training loss: \t 0.07507360675127099\n",
            "epoch: \t 48 \t training loss: \t 0.03256436086897003\n",
            "epoch: \t 49 \t training loss: \t 0.036876320171071904\n",
            "epoch: \t 50 \t training loss: \t 0.02217232471632183\n",
            "epoch: \t 51 \t training loss: \t 0.08556043742206193\n",
            "epoch: \t 52 \t training loss: \t 0.051968813181462646\n",
            "epoch: \t 53 \t training loss: \t 0.05911994109996349\n",
            "epoch: \t 54 \t training loss: \t 0.03297992360067407\n",
            "epoch: \t 55 \t training loss: \t 0.0450470907809703\n",
            "epoch: \t 56 \t training loss: \t 0.033221335931509534\n",
            "epoch: \t 57 \t training loss: \t 0.04874495008506959\n",
            "epoch: \t 58 \t training loss: \t 0.03426344449153954\n",
            "epoch: \t 59 \t training loss: \t 0.04894192816573195\n",
            "epoch: \t 60 \t training loss: \t 0.03935041584650447\n",
            "Test accuracy: \t 0.9471153846153846\n"
          ]
        }
      ],
      "source": [
        "\n",
        "# Define training option with weight decay\n",
        "\n",
        "\n",
        "# Define and initialize a model\n",
        "num_classes = 1\n",
        "Net = models.resnet50()\n",
        "Net.fc = Linear(2048, num_classes)\n",
        "\n",
        "# Define training option\n",
        "# Try different learning rate\n",
        "model_3_b = Net\n",
        "optimizer = Adam(model_3_b.parameters(), lr=0.0005, weight_decay=0.0001)\n",
        "criterion = BCEWithLogitsLoss()\n",
        "\n",
        "# checking if GPU is available\n",
        "device = torch.device('cuda' if torch.cuda.is_available() else 'cpu')\n",
        "model_3_b = model_3_b.to(device)\n",
        "\n",
        "# Start training\n",
        "# number of epochs to train the model\n",
        "n_epochs = 60\n",
        "predictions =[]\n",
        "torch.cuda.empty_cache()\n",
        "\n",
        "for epoch in range(1, n_epochs+1):\n",
        "    model_3_b.train()\n",
        "\n",
        "    train_loss = 0.0\n",
        "    training_loss = []\n",
        "    for _, (x, y) in enumerate(train_dataloader):\n",
        "        x = x.float() # x is byte Tensor (8-bit integer)\n",
        "        y = y.float()\n",
        "        x, y = x.to(device), y.to(device)\n",
        "\n",
        "        output = model_3_b(x).squeeze()\n",
        "        loss = criterion(output, y)\n",
        "\n",
        "        training_loss.append(loss.item())\n",
        "        optimizer.zero_grad()\n",
        "        loss.backward()\n",
        "        optimizer.step()\n",
        "\n",
        "    training_loss = np.average(training_loss)\n",
        "    print('epoch: \\t', epoch, '\\t training loss: \\t', training_loss)\n",
        "\n",
        "\n",
        "# prediction for training set\n",
        "prediction_test = []\n",
        "target_test = []\n",
        "\n",
        "model_3_b.eval()\n",
        "with torch.no_grad():\n",
        "    for _, (x, y) in enumerate(test_dataloader):\n",
        "        x = x.float() # x is byte Tensor (8-bit integer)\n",
        "        y = y.float()\n",
        "        x, y = x.to(device), y.to(device)\n",
        "\n",
        "        y_pred = model_3_b(x)\n",
        "        predictions = torch.sigmoid(y_pred).cpu().numpy()\n",
        "        predictions = predictions>0.5\n",
        "        predictions = predictions.astype('uint8')\n",
        "        prediction_test.append(predictions)\n",
        "        target_test.append(y.cpu())\n",
        "# Test accuracy\n",
        "accuracy_test = []\n",
        "for i in range(len(prediction_test)):\n",
        "    accuracy_test.append(accuracy_score(target_test[i], prediction_test[i]))\n",
        "\n",
        "print('Test accuracy: \\t', np.average(accuracy_test))"
      ]
    },
    {
      "cell_type": "code",
      "source": [
        "Accuracy_3_b = np.array([0.9423, 0.9807, 0.9423, 0.9663, 0.9856, 0.9856, 0.9860, 0.9567, 0.9759, 0.9519, 0.9712, 0.9472 ])\n",
        "print( 'Accuracy of model 3_b is ' + str(Accuracy_3_b.mean()))"
      ],
      "metadata": {
        "colab": {
          "base_uri": "https://localhost:8080/"
        },
        "id": "c5S25HbqJPFL",
        "outputId": "1bf3d99c-ec21-4f50-883d-a1e1664f3616"
      },
      "execution_count": 4,
      "outputs": [
        {
          "output_type": "stream",
          "name": "stdout",
          "text": [
            "Accuracy of model 3_b is 0.9659749999999999\n"
          ]
        }
      ]
    },
    {
      "cell_type": "markdown",
      "source": [
        "**ANALYSIS OF QUESTION 3-b :**\n",
        "\n",
        "This last model (Model 3b) uses the **same exact parameters and inputs** as the previous model (Model 3). The only difference is that we add **regularization **to further prevent overfitting. A **weight decay of 0.0001 **is used. Regularization is an important technique to prevent model **overfitting**.\n",
        "\n",
        "Despite the expectation of seeing an improvement in the final accuracy, an interesting thing happens here: **we don't observe an improvement**. Quite the opposite, **we see a decrease in the final accuracy from 0.97 to 0.966.**\n",
        "\n",
        "Potential **reasons** for the unexpected result:\n",
        "\n",
        "*  **Aggressive Regularization**: Regularization, such as weight decay, is a technique used during the training of neural networks to prevent overfitting. Weight decay adds a penalty term to the loss function, forcing the model to keep the weights small. **However, in this case, it seems that the weight decay of 0.0001 was too aggressive, leading the model to underfit the data**. As a result, the model's ability to capture the underlying patterns in the data was compromised, leading to a decrease in accuracy.\n",
        "*   **Augmentation and Regularization Interaction:** Another potential reason for this unexpected result could be that the combination of augmentation and regularization techniques interacted in an unexpected way. While augmentation aims to increase the diversity of the training dataset, regularization, such as weight decay, aims to prevent overfitting. **The weight decay used in this scenario might have been too strong, combined with the diversity introduced by augmentation, leading to an underfitting scenario.**\n",
        "\n",
        "Other regularization methods include:\n",
        "* **Dropout:** Dropout is a regularization technique where randomly selected neurons are ignored during training. This forces the network to learn more robust features.\n",
        "* **L1 and L2 regularization:** In addition to weight decay, which is a form of L2 regularization, L1 regularization adds a penalty term to the loss function proportional to the absolute value of the weights. This encourages sparsity in the model's weights.\n",
        "\n",
        "By introducing one of these regularization methods, we can enhance the model's ability to generalize and thus improve its performance on unseen data."
      ],
      "metadata": {
        "id": "HRoQrU7XQwp_"
      }
    }
  ],
  "metadata": {
    "colab": {
      "gpuType": "T4",
      "provenance": []
    },
    "kernelspec": {
      "display_name": "Python 3",
      "name": "python3"
    },
    "language_info": {
      "codemirror_mode": {
        "name": "ipython",
        "version": 3
      },
      "file_extension": ".py",
      "mimetype": "text/x-python",
      "name": "python",
      "nbconvert_exporter": "python",
      "pygments_lexer": "ipython3",
      "version": "3.9.7"
    }
  },
  "nbformat": 4,
  "nbformat_minor": 0
}